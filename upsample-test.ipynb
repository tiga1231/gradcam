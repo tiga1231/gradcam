{
 "cells": [
  {
   "cell_type": "code",
   "execution_count": 1,
   "id": "047b831d",
   "metadata": {},
   "outputs": [],
   "source": [
    "import torch\n",
    "from torch.nn.functional import upsample"
   ]
  },
  {
   "cell_type": "code",
   "execution_count": 13,
   "id": "aa336fe7",
   "metadata": {},
   "outputs": [],
   "source": [
    "a = torch.tensor([[1.0, 2],[3,4]]).unsqueeze(0).unsqueeze(0)"
   ]
  },
  {
   "cell_type": "code",
   "execution_count": 14,
   "id": "402505a6",
   "metadata": {},
   "outputs": [
    {
     "data": {
      "text/plain": [
       "torch.Size([1, 1, 2, 2])"
      ]
     },
     "execution_count": 14,
     "metadata": {},
     "output_type": "execute_result"
    }
   ],
   "source": [
    "a.shape"
   ]
  },
  {
   "cell_type": "code",
   "execution_count": 20,
   "id": "91d10e5d",
   "metadata": {
    "scrolled": true
   },
   "outputs": [
    {
     "data": {
      "text/plain": [
       "tensor([[[[1.0000, 1.0000, 1.1250, 1.3750, 1.6250, 1.8750, 2.0000, 2.0000],\n",
       "          [1.0000, 1.0000, 1.1250, 1.3750, 1.6250, 1.8750, 2.0000, 2.0000],\n",
       "          [1.2500, 1.2500, 1.3750, 1.6250, 1.8750, 2.1250, 2.2500, 2.2500],\n",
       "          [1.7500, 1.7500, 1.8750, 2.1250, 2.3750, 2.6250, 2.7500, 2.7500],\n",
       "          [2.2500, 2.2500, 2.3750, 2.6250, 2.8750, 3.1250, 3.2500, 3.2500],\n",
       "          [2.7500, 2.7500, 2.8750, 3.1250, 3.3750, 3.6250, 3.7500, 3.7500],\n",
       "          [3.0000, 3.0000, 3.1250, 3.3750, 3.6250, 3.8750, 4.0000, 4.0000],\n",
       "          [3.0000, 3.0000, 3.1250, 3.3750, 3.6250, 3.8750, 4.0000, 4.0000]]]])"
      ]
     },
     "execution_count": 20,
     "metadata": {},
     "output_type": "execute_result"
    }
   ],
   "source": [
    "upsample(a, size=[8,8], mode='bilinear')"
   ]
  },
  {
   "cell_type": "code",
   "execution_count": 3,
   "id": "c35319ae",
   "metadata": {},
   "outputs": [],
   "source": [
    "from scipy.ndimage import convolve\n",
    "import numpy as np"
   ]
  },
  {
   "cell_type": "code",
   "execution_count": 12,
   "id": "6029a4a7",
   "metadata": {},
   "outputs": [
    {
     "data": {
      "text/plain": [
       "array([[-1.5  ,  0.5  , -1.375, -1.   ],\n",
       "       [ 3.5  ,  2.   , -2.   ,  1.75 ],\n",
       "       [-4.25 , -2.5  , -2.125,  5.125],\n",
       "       [ 4.875,  0.375, -1.625, -1.75 ]])"
      ]
     },
     "execution_count": 12,
     "metadata": {},
     "output_type": "execute_result"
    }
   ],
   "source": [
    "a = np.array([[1.0,2,0,0],[5,3,0,4,],[0,0,0,7],[9,3,0,0]])\n",
    "k = np.array([[-1,-1,-1],[-1,8,-1],[-1,-1,-1]])\n",
    "convolve(a,k/8)"
   ]
  },
  {
   "cell_type": "code",
   "execution_count": null,
   "id": "011b8979",
   "metadata": {},
   "outputs": [],
   "source": []
  }
 ],
 "metadata": {
  "kernelspec": {
   "display_name": "Python 3 (ipykernel)",
   "language": "python",
   "name": "python3"
  },
  "language_info": {
   "codemirror_mode": {
    "name": "ipython",
    "version": 3
   },
   "file_extension": ".py",
   "mimetype": "text/x-python",
   "name": "python",
   "nbconvert_exporter": "python",
   "pygments_lexer": "ipython3",
   "version": "3.7.15"
  }
 },
 "nbformat": 4,
 "nbformat_minor": 5
}

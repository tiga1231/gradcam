{
 "cells": [
  {
   "cell_type": "code",
   "execution_count": null,
   "id": "be83afb5",
   "metadata": {},
   "outputs": [],
   "source": [
    "import json\n",
    "\n",
    "with open('/home/jack/data/dataset/COCO2017/stuff_val2017.json') as f:\n",
    "    coco = json.load(f)\n",
    "coco.keys()"
   ]
  },
  {
   "cell_type": "code",
   "execution_count": null,
   "id": "000bb9d2",
   "metadata": {},
   "outputs": [],
   "source": [
    "coco['images'][0]"
   ]
  },
  {
   "cell_type": "code",
   "execution_count": null,
   "id": "a77f64ac",
   "metadata": {},
   "outputs": [],
   "source": [
    "len(coco['categories']), coco['categories'][:4]"
   ]
  },
  {
   "cell_type": "code",
   "execution_count": null,
   "id": "4f55ff38",
   "metadata": {},
   "outputs": [],
   "source": [
    "coco['annotations'][0]['segmentation']['counts']"
   ]
  },
  {
   "cell_type": "code",
   "execution_count": null,
   "id": "47690c7a",
   "metadata": {},
   "outputs": [],
   "source": [
    "import numpy as np"
   ]
  },
  {
   "cell_type": "code",
   "execution_count": null,
   "id": "bfb71387",
   "metadata": {},
   "outputs": [],
   "source": [
    "np.frombuffer(b64decode(counts), dtype=np.bool).shape"
   ]
  },
  {
   "cell_type": "code",
   "execution_count": null,
   "id": "09ef08f5",
   "metadata": {},
   "outputs": [],
   "source": [
    "np.unpackbits(b64decode(counts))"
   ]
  },
  {
   "cell_type": "code",
   "execution_count": null,
   "id": "c633e978",
   "metadata": {},
   "outputs": [],
   "source": []
  }
 ],
 "metadata": {
  "kernelspec": {
   "display_name": "Python 3",
   "language": "python",
   "name": "python3"
  },
  "language_info": {
   "codemirror_mode": {
    "name": "ipython",
    "version": 3
   },
   "file_extension": ".py",
   "mimetype": "text/x-python",
   "name": "python",
   "nbconvert_exporter": "python",
   "pygments_lexer": "ipython3",
   "version": "3.6.6"
  }
 },
 "nbformat": 4,
 "nbformat_minor": 5
}

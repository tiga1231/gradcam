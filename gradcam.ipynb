{
 "cells": [
  {
   "cell_type": "code",
   "execution_count": null,
   "id": "28a7c0e6",
   "metadata": {},
   "outputs": [],
   "source": [
    "from inspect import getsource\n",
    "import math\n",
    "import json\n",
    "from PIL import Image\n",
    "from tqdm.notebook import tqdm\n",
    "\n",
    "import numpy as np\n",
    "\n",
    "import torch\n",
    "from torch import nn\n",
    "from torchvision import models\n",
    "from torchvision import transforms\n",
    "\n",
    "import matplotlib.pyplot as plt\n",
    "plt.style.use('ggplot')\n"
   ]
  },
  {
   "cell_type": "code",
   "execution_count": null,
   "id": "3ee018b9",
   "metadata": {},
   "outputs": [],
   "source": [
    "with open('imagenet_classes.json') as f:\n",
    "    imagenet_classes = json.load(f)\n",
    "imagenet_classes"
   ]
  },
  {
   "cell_type": "code",
   "execution_count": null,
   "id": "0be72bd7",
   "metadata": {
    "scrolled": false
   },
   "outputs": [],
   "source": [
    "image = Image.open('cat-dog.jpg')\n",
    "image"
   ]
  },
  {
   "cell_type": "code",
   "execution_count": null,
   "id": "49e49936",
   "metadata": {},
   "outputs": [],
   "source": [
    "class Flatten(nn.Module):\n",
    "    def __init__(self):\n",
    "        super().__init__()\n",
    "        \n",
    "    def forward(self, x):\n",
    "        return torch.flatten(x, 1)\n",
    "    \n",
    "    \n",
    "model = models.resnet50(pretrained=True)\n",
    "model.eval()\n",
    "print(getsource(model._forward_impl))\n",
    "\n",
    "layers = [\n",
    "    model.conv1,\n",
    "    model.bn1,\n",
    "    model.relu,\n",
    "    model.maxpool,\n",
    "    model.layer1,\n",
    "    model.layer2,\n",
    "    model.layer3,\n",
    "    model.layer4,\n",
    "    model.avgpool,\n",
    "    Flatten(),\n",
    "    model.fc\n",
    "]"
   ]
  },
  {
   "cell_type": "code",
   "execution_count": null,
   "id": "9d7edfeb",
   "metadata": {},
   "outputs": [],
   "source": [
    "img_transform = transforms.Compose([\n",
    "    transforms.Resize(256),\n",
    "    transforms.RandomCrop(224),\n",
    "#     transforms.CenterCrop(224),\n",
    "    transforms.ToTensor(),\n",
    "])\n",
    "\n",
    "normalize = transforms.Compose([\n",
    "    transforms.Normalize(\n",
    "        mean=[0.485, 0.456, 0.406], \n",
    "        std=[0.229, 0.224, 0.225]\n",
    "    ),\n",
    "])\n",
    "\n",
    "avg = nn.AdaptiveAvgPool2d(1)\n",
    "relu = nn.ReLU()\n",
    "softmax = nn.Softmax(dim=1)"
   ]
  },
  {
   "cell_type": "code",
   "execution_count": null,
   "id": "1c39277f",
   "metadata": {
    "scrolled": false
   },
   "outputs": [],
   "source": [
    "layer_index = 7\n",
    "\n",
    "transformed_image = img_transform(image)\n",
    "x = normalize(transformed_image).unsqueeze(0)\n",
    "act = nn.Sequential(*layers[:layer_index+1])(x)\n",
    "act = act.detach().requires_grad_(True)\n",
    "pred = softmax(\n",
    "    nn.Sequential(*layers[layer_index+1:])(act)\n",
    ")\n",
    "argmax = pred.argmax(dim=1)\n",
    "print(f'pred: {argmax.item()}, {imagenet_classes[str(argmax.item())]}')\n",
    "\n",
    "\n",
    "plt.figure(figsize=[6, 6], dpi=80)\n",
    "plt.imshow(transformed_image.permute(1,2,0), )\n",
    "plt.title(f'pred={imagenet_classes[str(argmax.item())]}')\n",
    "plt.axis('off')\n",
    "plt.show()\n",
    "\n",
    "\n",
    "gradcams = None\n",
    "for i, class_index in enumerate(tqdm(range(1000))):\n",
    "    \n",
    "    if act.grad is not None:\n",
    "        act.grad.data.fill_(0)\n",
    "        \n",
    "    ## the two-liner:\n",
    "    pred[:,class_index].sum().backward(retain_graph=True)\n",
    "    gradcam = relu(act * avg(act.grad)).sum(dim=1)\n",
    "    \n",
    "    gradcam = gradcam.detach().numpy()\n",
    "    if gradcams is None:\n",
    "        gradcams = np.zeros([1000,*gradcam.shape[1:]])\n",
    "    gradcams[i] = gradcam\n",
    "#     plt.subplot(201,5,i+2)\n",
    "#     plt.imshow(gradcam[0], vmax=1.5e-4)\n",
    "#     plt.title(f'gradcam_on={imagenet_classes[str(class_index)].split(\",\")[0]}\\nmax={gradcam.max():.2e}')\n",
    "#     # plt.colorbar()\n",
    "#     plt.axis('off')\n",
    "    \n",
    "# plt.show()\n"
   ]
  },
  {
   "cell_type": "code",
   "execution_count": null,
   "id": "5f00f4ee",
   "metadata": {
    "scrolled": false
   },
   "outputs": [],
   "source": [
    "nrows = 10\n",
    "ncols = 10\n",
    "nfigs = math.ceil(1000/nrows/ncols)\n",
    "figsize = 4 * np.array([ncols, nrows]) * np.array([gradcams.shape[2],gradcams.shape[1]])/min(gradcams.shape[1:])\n",
    "figsize[1] += 3\n",
    "\n",
    "vmax = gradcams.max()\n",
    "for fig in range(nfigs):\n",
    "    plt.figure(figsize=figsize, dpi=120)\n",
    "    for i in range(nrows):\n",
    "        for j in range(ncols):\n",
    "            class_index = fig*(nrows*ncols) + i*ncols + j\n",
    "            gradcam = gradcams[class_index]\n",
    "            plt.subplot(nrows,ncols,i*ncols+j+1)\n",
    "            plt.imshow(gradcam, vmin=0, vmax=vmax)\n",
    "            plt.title(f'{imagenet_classes[str(class_index)].split(\",\")[0]}\\n{gradcam.max().item():.2e}')\n",
    "            plt.axis('off')\n",
    "    plt.show()"
   ]
  },
  {
   "cell_type": "code",
   "execution_count": null,
   "id": "d9ae104a",
   "metadata": {},
   "outputs": [],
   "source": []
  },
  {
   "cell_type": "code",
   "execution_count": null,
   "id": "431b3c98",
   "metadata": {},
   "outputs": [],
   "source": []
  },
  {
   "cell_type": "code",
   "execution_count": null,
   "id": "2ceff47f",
   "metadata": {},
   "outputs": [],
   "source": []
  }
 ],
 "metadata": {
  "kernelspec": {
   "display_name": "Python 3",
   "language": "python",
   "name": "python3"
  },
  "language_info": {
   "codemirror_mode": {
    "name": "ipython",
    "version": 3
   },
   "file_extension": ".py",
   "mimetype": "text/x-python",
   "name": "python",
   "nbconvert_exporter": "python",
   "pygments_lexer": "ipython3",
   "version": "3.6.6"
  }
 },
 "nbformat": 4,
 "nbformat_minor": 5
}

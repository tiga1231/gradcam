{
 "cells": [
  {
   "cell_type": "code",
   "execution_count": null,
   "id": "9d7edfeb",
   "metadata": {},
   "outputs": [],
   "source": [
    "from inspect import getsource\n",
    "import math\n",
    "import json\n",
    "from PIL import Image\n",
    "from tqdm.notebook import tqdm\n",
    "\n",
    "import numpy as np\n",
    "\n",
    "import torch\n",
    "from torch import nn\n",
    "from torchvision import models\n",
    "from torchvision import transforms\n",
    "\n",
    "import matplotlib.pyplot as plt\n",
    "plt.style.use('ggplot')\n",
    "\n",
    "\n",
    "\n",
    "class Flatten(nn.Module):\n",
    "    def __init__(self):\n",
    "        super().__init__()\n",
    "        \n",
    "    def forward(self, x):\n",
    "        return torch.flatten(x, 1)\n",
    "    \n",
    "    \n",
    "model = models.resnet34(pretrained=True)\n",
    "model.eval()\n",
    "layers = [\n",
    "    model.conv1,\n",
    "    model.bn1,\n",
    "    model.relu,\n",
    "    model.maxpool,\n",
    "    model.layer1,\n",
    "    model.layer2,\n",
    "    model.layer3,\n",
    "    model.layer4,\n",
    "    model.avgpool,\n",
    "    Flatten(),\n",
    "    model.fc\n",
    "]\n",
    "\n",
    "\n",
    "\n",
    "\n",
    "normalize = transforms.Compose([\n",
    "    transforms.Normalize(\n",
    "        mean=[0.485, 0.456, 0.406], \n",
    "        std=[0.229, 0.224, 0.225]\n",
    "    ),\n",
    "])\n",
    "\n",
    "upsample = transforms.Compose([\n",
    "    transforms.ToPILImage(),\n",
    "    transforms.Resize(224),\n",
    "    transforms.ToTensor(),\n",
    "])\n",
    "\n",
    "\n",
    "avg = nn.AdaptiveAvgPool2d(1)\n",
    "relu = nn.ReLU()\n",
    "softmax = nn.Softmax(dim=1)\n",
    "\n",
    "\n",
    "def compute_gradcam(image, class_index=0, layers=layers, layer_index=7, shouldRelu=False, normalize_gradcam=False):\n",
    "    x = normalize(image).unsqueeze(0)\n",
    "    act = nn.Sequential(*layers[:layer_index+1])(x)\n",
    "    act = act.detach().requires_grad_(True)\n",
    "    pred = softmax(\n",
    "        nn.Sequential(*layers[layer_index+1:])(act)\n",
    "    )\n",
    "    # argmax = pred.argmax(dim=1)\n",
    "    if act.grad is not None:\n",
    "        act.grad.data.fill_(0)\n",
    "\n",
    "        ## the two-liner:\n",
    "    pred[:,class_index].sum().backward(retain_graph=True)\n",
    "    if shouldRelu:\n",
    "#         gradcam = relu(act * avg(act.grad)).sum(dim=1)\n",
    "        gradcam = relu((act * avg(act.grad)).sum(dim=1))\n",
    "    else:\n",
    "        gradcam = (act * avg(act.grad)).sum(dim=1)\n",
    "\n",
    "    gradcam = gradcam.detach().numpy()\n",
    "    if normalize_gradcam:\n",
    "        vmax = gradcam.max()\n",
    "        vmin = 0\n",
    "        gradcam = (gradcam-vmin)/(vmax-vmin)\n",
    "    return gradcam\n",
    "\n",
    "\n",
    "\n",
    "img_transform = transforms.Compose([\n",
    "    transforms.Resize(256),\n",
    "    transforms.RandomAffine(0, translate=[10/256, 10/256]),\n",
    "#     transforms.RandomAffine(0, scale=[0.8,1.5]),\n",
    "#     transforms.RandomCrop(224),\n",
    "    transforms.CenterCrop(224),\n",
    "#     transforms.RandomAffine(0, translate=[5/224, 5/224]),\n",
    "    transforms.ToTensor(),\n",
    "])\n",
    "\n",
    "image = Image.open('cat-dog.jpg')\n",
    "transformed_image = img_transform(image)"
   ]
  },
  {
   "cell_type": "code",
   "execution_count": null,
   "id": "d43f7f93",
   "metadata": {},
   "outputs": [],
   "source": []
  },
  {
   "cell_type": "code",
   "execution_count": null,
   "id": "c2239b84",
   "metadata": {
    "scrolled": false
   },
   "outputs": [],
   "source": [
    "if __name__ == '__main__':\n",
    "    \n",
    "    for _ in range(10):\n",
    "        transformed_image = img_transform(image)\n",
    "        gradcam = compute_gradcam(transformed_image, 281, shouldRelu=False,)\n",
    "        \n",
    "        plt.figure(figsize=[10,4])\n",
    "#         plt.subplot(121)\n",
    "        plt.imshow(transformed_image.permute(1,2,0))\n",
    "#         plt.subplot(122)\n",
    "#         plt.imshow(gradcam[0], vmin=-0.02, vmax=0.02)\n",
    "        plt.imshow(gradcam[0], alpha=0.8, extent=[0, 224, 224, 0])\n",
    "        plt.colorbar()\n",
    "        plt.axis('off')\n",
    "        plt.show()"
   ]
  },
  {
   "cell_type": "code",
   "execution_count": null,
   "id": "603e3435",
   "metadata": {},
   "outputs": [],
   "source": [
    "gradcams = np.concatenate([compute_gradcam(transformed_image, i) for i in tqdm(range(1000))])"
   ]
  },
  {
   "cell_type": "code",
   "execution_count": null,
   "id": "793be039",
   "metadata": {},
   "outputs": [],
   "source": [
    "gradcams.min(), gradcams.max()"
   ]
  },
  {
   "cell_type": "code",
   "execution_count": null,
   "id": "5323751f",
   "metadata": {},
   "outputs": [],
   "source": [
    "gradcams.astype(np.float32).tofile('gradcam_test_1000x7x7.bin')"
   ]
  },
  {
   "cell_type": "code",
   "execution_count": null,
   "id": "57489221",
   "metadata": {},
   "outputs": [],
   "source": [
    "from torchvision.utils import save_image"
   ]
  },
  {
   "cell_type": "code",
   "execution_count": null,
   "id": "ef4a93ea",
   "metadata": {},
   "outputs": [],
   "source": [
    "save_image(transformed_image, 'image_test.png')"
   ]
  },
  {
   "cell_type": "code",
   "execution_count": null,
   "id": "36fd47f4",
   "metadata": {},
   "outputs": [],
   "source": []
  }
 ],
 "metadata": {
  "kernelspec": {
   "display_name": "Python 3 (ipykernel)",
   "language": "python",
   "name": "python3"
  },
  "language_info": {
   "codemirror_mode": {
    "name": "ipython",
    "version": 3
   },
   "file_extension": ".py",
   "mimetype": "text/x-python",
   "name": "python",
   "nbconvert_exporter": "python",
   "pygments_lexer": "ipython3",
   "version": "3.7.15"
  }
 },
 "nbformat": 4,
 "nbformat_minor": 5
}
